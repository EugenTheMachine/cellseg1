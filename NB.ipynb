{
 "cells": [
  {
   "cell_type": "code",
   "execution_count": 3,
   "metadata": {},
   "outputs": [
    {
     "name": "stderr",
     "output_type": "stream",
     "text": [
      "Traceback (most recent call last):\n",
      "  File \"d:\\Документы\\HW\\Диплом\\Model Adoption\\cellseg1\\experiment_in_paper\\dataset\\generate_data_statistics.py\", line 8, in <module>\n",
      "    from data.utils import calculate_cell_statistics, read_mask_to_numpy\n",
      "  File \"d:\\Документы\\HW\\Диплом\\Model Adoption\\cellseg1\\.\\data\\utils.py\", line 5, in <module>\n",
      "    import nibabel as nib\n",
      "ModuleNotFoundError: No module named 'nibabel'\n"
     ]
    }
   ],
   "source": [
    "!python experiment_in_paper/dataset/generate_data_statistics.py"
   ]
  },
  {
   "cell_type": "code",
   "execution_count": null,
   "metadata": {},
   "outputs": [],
   "source": []
  }
 ],
 "metadata": {
  "kernelspec": {
   "display_name": "Python 3",
   "language": "python",
   "name": "python3"
  },
  "language_info": {
   "codemirror_mode": {
    "name": "ipython",
    "version": 3
   },
   "file_extension": ".py",
   "mimetype": "text/x-python",
   "name": "python",
   "nbconvert_exporter": "python",
   "pygments_lexer": "ipython3",
   "version": "3.10.11"
  }
 },
 "nbformat": 4,
 "nbformat_minor": 2
}
